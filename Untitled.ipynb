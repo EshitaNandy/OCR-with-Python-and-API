{
 "cells": [
  {
   "cell_type": "code",
   "execution_count": null,
   "metadata": {},
   "outputs": [
    {
     "name": "stdout",
     "output_type": "stream",
     "text": [
      "GIRLSCRIPT.TECH\r\n",
      "GUWAHATI\r\n",
      "EDUCATION OUTREACH PROGRAM : -\r\n",
      "• 14 days program (after July)\r\n",
      "• Promotion : - In our events, social media , word of mouth\r\n",
      "• Theme : - Scope in Technology for everyone.\r\n",
      "• Target : - (11-12 standards , Guwahati region) around 300\r\n",
      "participation.\r\n",
      "• Topics : - Python, Git & Git Hub, Android apps, Cloud computing,\r\n",
      "Application of A1 .(According to feedback)\r\n",
      "• Platform : - Google Meet (max 100 — 150 in one batch)\r\n",
      "• Registration Fees : - 30/per participant.\r\n",
      "\n"
     ]
    }
   ],
   "source": [
    "# Importing necessary libraries \n",
    "import cv2 #(if opencv not installed, then install in command prompt by : py -m pip install opencv-python)\n",
    "import numpy as np\n",
    "import requests\n",
    "import io\n",
    "import json\n",
    "\n",
    "img = cv2.imread(\"Screenshot (99).png\")\n",
    "height, width, _ = img.shape\n",
    "\n",
    "# Cutting image\n",
    "# roi = img[0: height, 400: width]\n",
    "roi = img\n",
    "\n",
    "# Ocr\n",
    "url_api = \"https://api.ocr.space/parse/image\"\n",
    "_, compressedimage = cv2.imencode(\".png\", roi, [1, 90])\n",
    "file_bytes = io.BytesIO(compressedimage)\n",
    "\n",
    "result = requests.post(url_api,\n",
    "              files = {\"Screenshot (99).png\": file_bytes},\n",
    "              data = {\"apikey\": \"helloworld\",\n",
    "                      \"language\": \"eng\"})\n",
    "\n",
    "result = result.content.decode()\n",
    "result = json.loads(result)\n",
    "\n",
    "parsed_results = result.get(\"ParsedResults\")[0]\n",
    "text_detected = parsed_results.get(\"ParsedText\")\n",
    "print(text_detected)\n",
    "\n",
    "cv2.imshow(\"roi\", roi)\n",
    "cv2.imshow(\"Img\", img)\n",
    "cv2.waitKey(0)\n",
    "cv2.destroyAllWindows()"
   ]
  },
  {
   "cell_type": "code",
   "execution_count": null,
   "metadata": {},
   "outputs": [],
   "source": []
  },
  {
   "cell_type": "code",
   "execution_count": null,
   "metadata": {},
   "outputs": [],
   "source": []
  }
 ],
 "metadata": {
  "kernelspec": {
   "display_name": "Python 3",
   "language": "python",
   "name": "python3"
  },
  "language_info": {
   "codemirror_mode": {
    "name": "ipython",
    "version": 3
   },
   "file_extension": ".py",
   "mimetype": "text/x-python",
   "name": "python",
   "nbconvert_exporter": "python",
   "pygments_lexer": "ipython3",
   "version": "3.8.3"
  }
 },
 "nbformat": 4,
 "nbformat_minor": 4
}
